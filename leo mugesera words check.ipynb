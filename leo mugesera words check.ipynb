{
  "nbformat": 4,
  "nbformat_minor": 0,
  "metadata": {
    "colab": {
      "provenance": [],
      "authorship_tag": "ABX9TyM8yeO5DFcReY8jTWYLdRez",
      "include_colab_link": true
    },
    "kernelspec": {
      "name": "python3",
      "display_name": "Python 3"
    },
    "language_info": {
      "name": "python"
    }
  },
  "cells": [
    {
      "cell_type": "markdown",
      "metadata": {
        "id": "view-in-github",
        "colab_type": "text"
      },
      "source": [
        "<a href=\"https://colab.research.google.com/github/angelouok/kwizera-angelo-derrick-2409000145/blob/main/leo%20mugesera%20words%20check.ipynb\" target=\"_parent\"><img src=\"https://colab.research.google.com/assets/colab-badge.svg\" alt=\"Open In Colab\"/></a>"
      ]
    },
    {
      "cell_type": "code",
      "execution_count": 6,
      "metadata": {
        "colab": {
          "base_uri": "https://localhost:8080/"
        },
        "id": "nqKHzbXTTZyv",
        "outputId": "4e28a54d-931e-4e2d-ed21-72218c4147bb"
      },
      "outputs": [
        {
          "output_type": "stream",
          "name": "stdout",
          "text": [
            "Hate speech detected! Offensive words: ['kill', 'tutsi']\n"
          ]
        }
      ],
      "source": [
        "offensive_words = [\n",
        "    \"inyenzi\", \"cockroaches\", \"kill\", \"exterminate\", \"destroy\",\n",
        "    \"traitors\", \"snakes\", \"rats\", \"hutu power\", \"tutsi\",\n",
        "    \"ethnic cleansing\", \"wipe out\", \"enemy\", \"revenge\",\n",
        "    \"impurity\", \"traitors\", \"infiltrators\", \"parasites\"\n",
        "]\n",
        "\n",
        "# Function to detect hate speech\n",
        "def detect_hate_speech(text):\n",
        "    detected_words = [word for word in offensive_words if word in text.lower()]\n",
        "    return detected_words\n",
        "\n",
        "# Example usage\n",
        "text =\"The first news he announced was that the Tutsi should be sent to Ethiopia by sending them along the Nyabarongo so that they would come out in Ethiopia. After that, the interahamwe [militia responsible for widespread killing during the genocide], who had come there to dance, started to look at us differently as if we were different people. They asked us: did you hear what was said and should you be allowed to go back anywhere\"\n",
        "hate_words = detect_hate_speech(text)\n",
        "if hate_words:\n",
        "    print(\"Hate speech detected! Offensive words:\", hate_words)\n",
        "else:\n",
        "    print(\"No hate speech detected.\")"
      ]
    }
  ]
}