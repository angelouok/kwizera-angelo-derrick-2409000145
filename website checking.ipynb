{
  "nbformat": 4,
  "nbformat_minor": 0,
  "metadata": {
    "colab": {
      "provenance": [],
      "authorship_tag": "ABX9TyP900TD1Wob6NSXq3TiAElV",
      "include_colab_link": true
    },
    "kernelspec": {
      "name": "python3",
      "display_name": "Python 3"
    },
    "language_info": {
      "name": "python"
    }
  },
  "cells": [
    {
      "cell_type": "markdown",
      "metadata": {
        "id": "view-in-github",
        "colab_type": "text"
      },
      "source": [
        "<a href=\"https://colab.research.google.com/github/angelouok/kwizera-angelo-derrick-2409000145/blob/main/website%20checking.ipynb\" target=\"_parent\"><img src=\"https://colab.research.google.com/assets/colab-badge.svg\" alt=\"Open In Colab\"/></a>"
      ]
    },
    {
      "cell_type": "code",
      "execution_count": 1,
      "metadata": {
        "colab": {
          "base_uri": "https://localhost:8080/"
        },
        "id": "GdwgA8NObEcI",
        "outputId": "44491ffd-b4b8-4ebc-a15d-d1f4547b955f"
      },
      "outputs": [
        {
          "output_type": "stream",
          "name": "stdout",
          "text": [
            "potential sql injection vulnerability found!\n"
          ]
        }
      ],
      "source": [
        "import requests\n",
        "\n",
        "def check_sql_injection(url):\n",
        "    # Define a payload here, for example:\n",
        "    payload = \"' OR '1'='1\"\n",
        "    response = requests.get(url + payload)\n",
        "    if \"error\" in response.text.lower():\n",
        "        return \"potential sql injection vulnerability found!\"\n",
        "    return \"no sql injection vulnerability detected\"\n",
        "\n",
        "# This line should be outside the function\n",
        "url = \"https://umuseke.rw/\"\n",
        "results = check_sql_injection(url)\n",
        "print(results)"
      ]
    }
  ]
}