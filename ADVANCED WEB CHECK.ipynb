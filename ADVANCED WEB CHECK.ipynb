{
  "nbformat": 4,
  "nbformat_minor": 0,
  "metadata": {
    "colab": {
      "provenance": [],
      "include_colab_link": true
    },
    "kernelspec": {
      "name": "python3",
      "display_name": "Python 3"
    },
    "language_info": {
      "name": "python"
    }
  },
  "cells": [
    {
      "cell_type": "markdown",
      "metadata": {
        "id": "view-in-github",
        "colab_type": "text"
      },
      "source": [
        "<a href=\"https://colab.research.google.com/github/angelouok/kwizera-angelo-derrick-2409000145/blob/main/ADVANCED%20WEB%20CHECK.ipynb\" target=\"_parent\"><img src=\"https://colab.research.google.com/assets/colab-badge.svg\" alt=\"Open In Colab\"/></a>"
      ]
    },
    {
      "cell_type": "code",
      "execution_count": null,
      "metadata": {
        "colab": {
          "base_uri": "https://localhost:8080/"
        },
        "id": "Cj_ORzSvAL6i",
        "outputId": "62b0ecc7-0d66-4864-9ae3-39ae18b2cc24"
      },
      "outputs": [
        {
          "output_type": "stream",
          "name": "stdout",
          "text": [
            "\n",
            "🔍 Running Website Checks...\n",
            "✅ https://uok.ac.rw is UP (Status: 200)\n"
          ]
        },
        {
          "output_type": "stream",
          "name": "stderr",
          "text": [
            "ERROR:root:🔌 https://another-website.com is unreachable (Connection Error)\n",
            "ERROR:root:Failed to send email alert: (535, b'5.7.8 Username and Password not accepted. For more information, go to\\n5.7.8  https://support.google.com/mail/?p=BadCredentials 4fb4d7f45d1cf-5e45a8b8b53sm1519626a12.19 - gsmtp')\n"
          ]
        },
        {
          "output_type": "stream",
          "name": "stdout",
          "text": [
            "✅ https://example.com is UP (Status: 200)\n",
            "🔌 https://another-website.com is unreachable (Connection Error)\n",
            "🕒 Waiting 5.0 minutes before next check...\n",
            "\n"
          ]
        }
      ],
      "source": [
        "import requests\n",
        "import time\n",
        "import smtplib\n",
        "import logging\n",
        "from email.mime.text import MIMEText\n",
        "from email.mime.multipart import MIMEMultipart\n",
        "\n",
        "# List of URLs to monitor\n",
        "URLS_TO_CHECK = [\n",
        "    \"https://uok.ac.rw\",\n",
        "    \"https://example.com\",\n",
        "    \"https://another-website.com\"\n",
        "]\n",
        "\n",
        "# Email alert configuration\n",
        "EMAIL_SENDER = \"YOUR_EMAIL@gmail.com\"\n",
        "EMAIL_PASSWORD = \"YOUR_PASSWORD\"  # Use App Password for security\n",
        "EMAIL_RECEIVER = \"RECEIVER_EMAIL@gmail.com\"\n",
        "SMTP_SERVER = \"smtp.gmail.com\"\n",
        "SMTP_PORT = 587\n",
        "\n",
        "# Logging configuration\n",
        "LOG_FILE = \"website_monitor.log\"\n",
        "logging.basicConfig(filename=LOG_FILE, level=logging.INFO, format=\"%(asctime)s - %(levelname)s - %(message)s\")\n",
        "\n",
        "\n",
        "def send_email_alert(url, error_message):\n",
        "    \"\"\"Send an email notification when a website goes down.\"\"\"\n",
        "    try:\n",
        "        msg = MIMEMultipart()\n",
        "        msg[\"From\"] = EMAIL_SENDER\n",
        "        msg[\"To\"] = EMAIL_RECEIVER\n",
        "        msg[\"Subject\"] = f\"🚨 ALERT: {url} is DOWN!\"\n",
        "\n",
        "        body = f\"⚠️ The website {url} is unreachable.\\nError: {error_message}\\nPlease check immediately.\"\n",
        "        msg.attach(MIMEText(body, \"plain\"))\n",
        "\n",
        "        with smtplib.SMTP(SMTP_SERVER, SMTP_PORT) as server:\n",
        "            server.starttls()\n",
        "            server.login(EMAIL_SENDER, EMAIL_PASSWORD)\n",
        "            server.sendmail(EMAIL_SENDER, EMAIL_RECEIVER, msg.as_string())\n",
        "\n",
        "        logging.info(f\"Email alert sent for {url}.\")\n",
        "    except Exception as e:\n",
        "        logging.error(f\"Failed to send email alert: {e}\")\n",
        "\n",
        "\n",
        "def check_website(url):\n",
        "    \"\"\"Check website status and log failures.\"\"\"\n",
        "    headers = {\n",
        "        \"User-Agent\": \"Mozilla/5.0\"\n",
        "    }\n",
        "\n",
        "    try:\n",
        "        response = requests.get(url, headers=headers, timeout=5)\n",
        "\n",
        "        if response.status_code == 200:\n",
        "            return f\"✅ {url} is UP (Status: {response.status_code})\"\n",
        "        else:\n",
        "            error_message = f\"❌ {url} returned error (Status: {response.status_code})\"\n",
        "            logging.warning(error_message)\n",
        "            send_email_alert(url, error_message)\n",
        "            return error_message\n",
        "\n",
        "    except requests.exceptions.Timeout:\n",
        "        error_message = f\"⏳ {url} is unreachable (Timeout)\"\n",
        "    except requests.exceptions.ConnectionError:\n",
        "        error_message = f\"🔌 {url} is unreachable (Connection Error)\"\n",
        "    except requests.exceptions.RequestException as e:\n",
        "        error_message = f\"⚠️ {url} is unreachable (Error: {e})\"\n",
        "\n",
        "    logging.error(error_message)\n",
        "    send_email_alert(url, error_message)\n",
        "    return error_message\n",
        "\n",
        "\n",
        "def monitor_websites(interval=300):\n",
        "    \"\"\"Periodically check multiple websites and log failures.\"\"\"\n",
        "    while True:\n",
        "        print(\"\\n🔍 Running Website Checks...\")\n",
        "        for url in URLS_TO_CHECK:\n",
        "            status = check_website(url)\n",
        "            print(status)\n",
        "\n",
        "        print(f\"🕒 Waiting {interval / 60} minutes before next check...\\n\")\n",
        "        time.sleep(interval)  # Wait before checking again\n",
        "\n",
        "\n",
        "if __name__ == \"__main__\":\n",
        "    monitor_websites()  # Runs the monitoring loop every 5 minutes\n"
      ]
    }
  ]
}