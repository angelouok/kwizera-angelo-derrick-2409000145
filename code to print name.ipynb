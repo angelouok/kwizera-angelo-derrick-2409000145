{
  "nbformat": 4,
  "nbformat_minor": 0,
  "metadata": {
    "colab": {
      "provenance": [],
      "authorship_tag": "ABX9TyNwtDMKCmmhFe8CGxB9n4M5",
      "include_colab_link": true
    },
    "kernelspec": {
      "name": "python3",
      "display_name": "Python 3"
    },
    "language_info": {
      "name": "python"
    }
  },
  "cells": [
    {
      "cell_type": "markdown",
      "metadata": {
        "id": "view-in-github",
        "colab_type": "text"
      },
      "source": [
        "<a href=\"https://colab.research.google.com/github/angelouok/kwizera-angelo-derrick-2409000145/blob/main/assignment.ipynb\" target=\"_parent\"><img src=\"https://colab.research.google.com/assets/colab-badge.svg\" alt=\"Open In Colab\"/></a>"
      ]
    },
    {
      "cell_type": "code",
      "execution_count": null,
      "metadata": {
        "colab": {
          "base_uri": "https://localhost:8080/"
        },
        "id": "pC3R0hL9V3nW",
        "outputId": "a5236a50-a493-46bb-9d28-8dc69c18824f"
      },
      "outputs": [
        {
          "output_type": "stream",
          "name": "stdout",
          "text": [
            "Requirement already satisfied: cryptography in /usr/local/lib/python3.11/dist-packages (43.0.3)\n",
            "Requirement already satisfied: cffi>=1.12 in /usr/local/lib/python3.11/dist-packages (from cryptography) (1.17.1)\n",
            "Requirement already satisfied: pycparser in /usr/local/lib/python3.11/dist-packages (from cffi>=1.12->cryptography) (2.22)\n"
          ]
        }
      ],
      "source": [
        " !pip install cryptography"
      ]
    },
    {
      "cell_type": "code",
      "source": [],
      "metadata": {
        "id": "XrUyE4qTZrG5"
      },
      "execution_count": null,
      "outputs": []
    },
    {
      "cell_type": "code",
      "source": [
        " from cryptography.fernet import Fernet\n",
        " key = Fernet.generate_key()\n",
        " fernet = Fernet(key)\n",
        " message1 = \"First name\"\n",
        " message2= \"angelo\"\n",
        " encrypted_message1 = fernet.encrypt(message1.encode())\n",
        " decrypted_message1 =fernet.decrypt(encrypted_message1)\n",
        " encrypted_message2 = fernet.encrypt(message2.encode())\n",
        " decrypted_message2 =fernet.decrypt(encrypted_message2)\n",
        " print(decrypted_message1.decode())\n",
        " print(decrypted_message2.decode())"
      ],
      "metadata": {
        "colab": {
          "base_uri": "https://localhost:8080/"
        },
        "id": "4La5srq7WI94",
        "outputId": "d1ee5564-78cd-4018-f1eb-e80c737b49fc"
      },
      "execution_count": null,
      "outputs": [
        {
          "output_type": "stream",
          "name": "stdout",
          "text": [
            "First name\n",
            "angelo\n"
          ]
        }
      ]
    }
  ]
}
