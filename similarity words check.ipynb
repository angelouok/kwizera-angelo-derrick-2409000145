{
  "nbformat": 4,
  "nbformat_minor": 0,
  "metadata": {
    "colab": {
      "provenance": [],
      "authorship_tag": "ABX9TyNHz1iQ23Cf5T1kyiiEMgYn",
      "include_colab_link": true
    },
    "kernelspec": {
      "name": "python3",
      "display_name": "Python 3"
    },
    "language_info": {
      "name": "python"
    }
  },
  "cells": [
    {
      "cell_type": "markdown",
      "metadata": {
        "id": "view-in-github",
        "colab_type": "text"
      },
      "source": [
        "<a href=\"https://colab.research.google.com/github/angelouok/kwizera-angelo-derrick-2409000145/blob/main/similarity.ipynb\" target=\"_parent\"><img src=\"https://colab.research.google.com/assets/colab-badge.svg\" alt=\"Open In Colab\"/></a>"
      ]
    },
    {
      "cell_type": "code",
      "execution_count": 4,
      "metadata": {
        "id": "QQPF_DsY66VS"
      },
      "outputs": [],
      "source": [
        "def jaccard_similarity(text1, text2):\n",
        "  set1 = set(text1.split())\n",
        "  set2 = set(text2.split())\n",
        "\n",
        "  intersection = set1.intersection(set2)\n",
        "  union = set1.union(set2)\n",
        "\n",
        "  similarity = len(intersection)/ len(union)\n",
        "\n",
        "  return similarity,intersection\n",
        "\n",
        "  text1 =\"this is a sample text about legal issues.\"\n",
        "  text2 = \"this is text discussed legal and ethical issues in computing.\"\n",
        "\n",
        "  similarity, common_words = jaccard_similarity(text1, text2)\n",
        "\n",
        "  print(f\"similarity: {similarity:.2f}\")\n",
        "  print(f\"common word:{common_words}\")\n"
      ]
    },
    {
      "cell_type": "code",
      "source": [
        "def jaccard_similarity(text1, text2):\n",
        "    set1 = set(text1.split())\n",
        "    set2 = set(text2.split())\n",
        "\n",
        "    intersection = set1.intersection(set2)  # Fixed typo here\n",
        "    union = set1.union(set2)\n",
        "\n",
        "    similarity = len(intersection) / len(union)\n",
        "\n",
        "    return similarity, intersection\n",
        "\n",
        "text1 = \"this is a sample text about legal issues.\"\n",
        "text2 = \"this is text discussed legal and ethical issues in computing.\"\n",
        "\n",
        "similarity, common_words = jaccard_similarity(text1, text2)\n",
        "\n",
        "print(f\"similarity: {similarity:.2f}\")\n",
        "print(f\"common words: {common_words}\")\n"
      ],
      "metadata": {
        "colab": {
          "base_uri": "https://localhost:8080/"
        },
        "id": "9_Hv7nBC-OJq",
        "outputId": "02991ebe-3a10-4bd5-f06e-22e01a7cc5ba"
      },
      "execution_count": 3,
      "outputs": [
        {
          "output_type": "stream",
          "name": "stdout",
          "text": [
            "similarity: 0.29\n",
            "common words: {'text', 'is', 'legal', 'this'}\n"
          ]
        }
      ]
    }
  ]
}
