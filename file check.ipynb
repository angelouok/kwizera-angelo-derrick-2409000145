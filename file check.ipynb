{
  "nbformat": 4,
  "nbformat_minor": 0,
  "metadata": {
    "colab": {
      "provenance": [],
      "authorship_tag": "ABX9TyM5zLuAJIefJnuAKOyCL4Zp",
      "include_colab_link": true
    },
    "kernelspec": {
      "name": "python3",
      "display_name": "Python 3"
    },
    "language_info": {
      "name": "python"
    }
  },
  "cells": [
    {
      "cell_type": "markdown",
      "metadata": {
        "id": "view-in-github",
        "colab_type": "text"
      },
      "source": [
        "<a href=\"https://colab.research.google.com/github/angelouok/kwizera-angelo-derrick-2409000145/blob/main/file%20check.ipynb\" target=\"_parent\"><img src=\"https://colab.research.google.com/assets/colab-badge.svg\" alt=\"Open In Colab\"/></a>"
      ]
    },
    {
      "cell_type": "code",
      "execution_count": 2,
      "metadata": {
        "colab": {
          "base_uri": "https://localhost:8080/"
        },
        "id": "EgYumcKdZQSJ",
        "outputId": "10103fda-f926-4fac-eec2-13cdfcdf85d7"
      },
      "outputs": [
        {
          "output_type": "stream",
          "name": "stdout",
          "text": [
            "Phishing detection complete. ✅\n"
          ]
        }
      ],
      "source": [
        "import pandas as pd\n",
        "phishing_keywords = [\"urgent\", \"password reset\", \"bank\", \"verify\", \"account suspended\"]\n",
        "\n",
        "emails = pd.read_csv(\"/content/samples.csv\")\n",
        "if 'Content' in emails.columns:\n",
        "  emails['is_phishing'] = emails['Content'].apply(\n",
        "      lambda x: any(keyword in str(x).lower() for keyword in phishing_keywords)\n",
        "  )\n",
        "  emails.to_csv(\"/content/2509000145,250900072.csv\", index=False)\n",
        "  print(\"Phishing detection complete. ✅\")\n",
        "else:\n",
        "  print(\"Error: The 'content' column is missing from the dataset.\")"
      ]
    }
  ]
}