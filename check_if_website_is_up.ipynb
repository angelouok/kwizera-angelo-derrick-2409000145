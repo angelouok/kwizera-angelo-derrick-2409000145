{
  "nbformat": 4,
  "nbformat_minor": 0,
  "metadata": {
    "colab": {
      "provenance": [],
      "authorship_tag": "ABX9TyMCKf/KY4jUAZZ5OoAxCa3t",
      "include_colab_link": true
    },
    "kernelspec": {
      "name": "python3",
      "display_name": "Python 3"
    },
    "language_info": {
      "name": "python"
    }
  },
  "cells": [
    {
      "cell_type": "markdown",
      "metadata": {
        "id": "view-in-github",
        "colab_type": "text"
      },
      "source": [
        "<a href=\"https://colab.research.google.com/github/angelouok/kwizera-angelo-derrick-2409000145/blob/main/check_if_website_is_up.ipynb\" target=\"_parent\"><img src=\"https://colab.research.google.com/assets/colab-badge.svg\" alt=\"Open In Colab\"/></a>"
      ]
    },
    {
      "cell_type": "code",
      "execution_count": 1,
      "metadata": {
        "colab": {
          "base_uri": "https://localhost:8080/"
        },
        "id": "i_NTF5Wu1r9E",
        "outputId": "f5405ca3-db11-49e7-9e1d-5be4153a854b"
      },
      "outputs": [
        {
          "output_type": "stream",
          "name": "stdout",
          "text": [
            "website https://mycampus.uok.ac.rw/ is up (status:200)\n"
          ]
        }
      ],
      "source": [
        "import requests\n",
        "\n",
        "def check_website(url):\n",
        "  try:\n",
        "    response = requests.get(url,timeout=5)\n",
        "    return f\"website {url} is up (status:{response.status_code})\"\n",
        "  except requests.exceptions.requestException:\n",
        "    return f\"website{url} is unreachable.\"\n",
        "\n",
        "print(check_website(\"https://mycampus.uok.ac.rw/\"))"
      ]
    }
  ]
}