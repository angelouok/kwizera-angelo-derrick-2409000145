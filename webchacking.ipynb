{
  "nbformat": 4,
  "nbformat_minor": 0,
  "metadata": {
    "colab": {
      "provenance": [],
      "authorship_tag": "ABX9TyOv2I/hiWRjM35XKC7GZ0kk",
      "include_colab_link": true
    },
    "kernelspec": {
      "name": "python3",
      "display_name": "Python 3"
    },
    "language_info": {
      "name": "python"
    }
  },
  "cells": [
    {
      "cell_type": "markdown",
      "metadata": {
        "id": "view-in-github",
        "colab_type": "text"
      },
      "source": [
        "<a href=\"https://colab.research.google.com/github/angelouok/kwizera-angelo-derrick-2409000145/blob/main/webchacking.ipynb\" target=\"_parent\"><img src=\"https://colab.research.google.com/assets/colab-badge.svg\" alt=\"Open In Colab\"/></a>"
      ]
    },
    {
      "cell_type": "code",
      "execution_count": 4,
      "metadata": {
        "id": "NQbuVQIudLg1"
      },
      "outputs": [],
      "source": [
        "import requests\n",
        "def website(url):\n",
        "  payload = \"'or'1'='1\"\n",
        "  response = request.get(url + paylaod)\n",
        "  if\"error\" in response.text.lower():\n",
        "    return \"potential sql injection vulnerability found!\"\n",
        "    return \"no sql injection vulnerability detected\"\n",
        "    url = \"https://uvogin@juice-sh.op\"\n",
        "    result = check_sql_injection(url)\n",
        "    print(result)\n",
        ""
      ]
    }
  ]
}