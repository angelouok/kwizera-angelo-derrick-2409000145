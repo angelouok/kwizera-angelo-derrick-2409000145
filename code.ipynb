{
  "nbformat": 4,
  "nbformat_minor": 0,
  "metadata": {
    "colab": {
      "provenance": [],
      "authorship_tag": "ABX9TyMaJpC7R4W/U2cH2yrwbku9",
      "include_colab_link": true
    },
    "kernelspec": {
      "name": "python3",
      "display_name": "Python 3"
    },
    "language_info": {
      "name": "python"
    }
  },
  "cells": [
    {
      "cell_type": "markdown",
      "metadata": {
        "id": "view-in-github",
        "colab_type": "text"
      },
      "source": [
        "<a href=\"https://colab.research.google.com/github/angelouok/kwizera-angelo-derrick-2409000145/blob/main/code.ipynb\" target=\"_parent\"><img src=\"https://colab.research.google.com/assets/colab-badge.svg\" alt=\"Open In Colab\"/></a>"
      ]
    },
    {
      "cell_type": "code",
      "source": [
        "candidate = [{'name':'james','gender':'M','age':20},{'name':'sam','gender':'M','age':25},{'name':'mutesi','gender':'F','age':29}]\n",
        "\n",
        "def biased_hire(candidates): # Added colon here\n",
        "    return[candidate for candidate in candidates if candidate['gender']=='F'] # Changed ['F'] to 'F'\n",
        "\n",
        "print(\"Biased hiring:\",biased_hire(candidate))"
      ],
      "metadata": {
        "colab": {
          "base_uri": "https://localhost:8080/"
        },
        "id": "oiRr16Ze8-Vk",
        "outputId": "413d650d-88e1-4e99-f77b-68b2ae198075"
      },
      "execution_count": 5,
      "outputs": [
        {
          "output_type": "stream",
          "name": "stdout",
          "text": [
            "Biased hiring: [{'name': 'mutesi', 'gender': 'F', 'age': 29}]\n"
          ]
        }
      ]
    },
    {
      "cell_type": "code",
      "execution_count": 1,
      "metadata": {
        "id": "TfcX9NBl3rn5"
      },
      "outputs": [],
      "source": [
        "import random"
      ]
    },
    {
      "cell_type": "code",
      "source": [
        "employee = [{'name':'SIBOMANA','gender':'male','age':27},{'name':'scovia','gender':'F','age':23},{'name':'jane','gender':'female','age':25}]\n",
        "def employee_to_hire(employee):\n",
        "    return [emp for emp in employee if emp['age'] <= 25]\n",
        "print(\"Employee to hire:\", employee_to_hire(employee))\n"
      ],
      "metadata": {
        "colab": {
          "base_uri": "https://localhost:8080/"
        },
        "id": "VrFWPWZtCZoO",
        "outputId": "889a9260-0950-45c2-950d-311935150a68"
      },
      "execution_count": 21,
      "outputs": [
        {
          "output_type": "stream",
          "name": "stdout",
          "text": [
            "Employee to hire: [{'name': 'scovia', 'gender': 'F', 'age': 23}, {'name': 'jane', 'gender': 'female', 'age': 25}]\n"
          ]
        }
      ]
    },
    {
      "cell_type": "code",
      "source": [
        "employee = [{'name':'SIBOMANA','gender':'male','age':27},{'name':'scovia','gender':'F','age':23},{'name':'jane','gender':'female','age':25}]\n",
        "def employee_to_hire(employee):\n",
        "    return random.choice(employee)\n",
        "print(\"Employee to hire:\", employee_to_hire(employee))"
      ],
      "metadata": {
        "colab": {
          "base_uri": "https://localhost:8080/"
        },
        "id": "f4jbT5M6DGoG",
        "outputId": "325bd9f4-1eb3-4736-c1f7-b9dce24b3fca"
      },
      "execution_count": 25,
      "outputs": [
        {
          "output_type": "stream",
          "name": "stdout",
          "text": [
            "Employee to hire: {'name': 'jane', 'gender': 'female', 'age': 25}\n"
          ]
        }
      ]
    }
  ]
}